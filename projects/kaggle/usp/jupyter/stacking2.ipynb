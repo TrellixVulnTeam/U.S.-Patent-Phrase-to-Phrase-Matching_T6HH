{
 "cells": [
  {
   "cell_type": "code",
   "execution_count": 1,
   "metadata": {},
   "outputs": [
    {
     "name": "stderr",
     "output_type": "stream",
     "text": [
      "[06/24/22 17:50:17] ensemble_conf.py:131 in <module>\n",
      "                    list(zip(mns, weights)): [('deberta-v3.lr-2e-5.x', 0.6),\n",
      "                                              ('patent.rnn_double_dim.x', 0.3),\n",
      "                                              ('electra-squad.x', 0.2),\n",
      "                                              ('simcse-patent.rnn_double_dim.x', 0.2),\n",
      "                                              ('deberta-v3.lr-2e-5.context_key-sector.x', 0.4),\n",
      "                                              ('patent.rnn_double_dim.context_key-sector.x', 0.1),\n",
      "                                              ('electra-squad.context_key-sector.x', 0.1)]\n",
      "                    len(mns): 7\n"
     ]
    }
   ],
   "source": [
    "from gezi.common import *\n",
    "sys.path.append('..')\n",
    "from src.postprocess import *\n",
    "from src.config import *\n",
    "from src.eval import *\n",
    "from src.ensemble_conf import mns, get_weight"
   ]
  },
  {
   "cell_type": "code",
   "execution_count": 2,
   "metadata": {},
   "outputs": [
    {
     "data": {
      "text/html": [
       "<div>\n",
       "<style scoped>\n",
       "    .dataframe tbody tr th:only-of-type {\n",
       "        vertical-align: middle;\n",
       "    }\n",
       "\n",
       "    .dataframe tbody tr th {\n",
       "        vertical-align: top;\n",
       "    }\n",
       "\n",
       "    .dataframe thead th {\n",
       "        text-align: right;\n",
       "    }\n",
       "</style>\n",
       "<table border=\"1\" class=\"dataframe\">\n",
       "  <thead>\n",
       "    <tr style=\"text-align: right;\">\n",
       "      <th></th>\n",
       "      <th>id</th>\n",
       "      <th>anchor</th>\n",
       "      <th>target</th>\n",
       "      <th>context</th>\n",
       "      <th>score</th>\n",
       "    </tr>\n",
       "  </thead>\n",
       "  <tbody>\n",
       "    <tr>\n",
       "      <th>0</th>\n",
       "      <td>37d61fd2272659b1</td>\n",
       "      <td>abatement</td>\n",
       "      <td>abatement of pollution</td>\n",
       "      <td>A47</td>\n",
       "      <td>0.50</td>\n",
       "    </tr>\n",
       "    <tr>\n",
       "      <th>1</th>\n",
       "      <td>7b9652b17b68b7a4</td>\n",
       "      <td>abatement</td>\n",
       "      <td>act of abating</td>\n",
       "      <td>A47</td>\n",
       "      <td>0.75</td>\n",
       "    </tr>\n",
       "    <tr>\n",
       "      <th>2</th>\n",
       "      <td>36d72442aefd8232</td>\n",
       "      <td>abatement</td>\n",
       "      <td>active catalyst</td>\n",
       "      <td>A47</td>\n",
       "      <td>0.25</td>\n",
       "    </tr>\n",
       "    <tr>\n",
       "      <th>3</th>\n",
       "      <td>5296b0c19e1ce60e</td>\n",
       "      <td>abatement</td>\n",
       "      <td>eliminating process</td>\n",
       "      <td>A47</td>\n",
       "      <td>0.50</td>\n",
       "    </tr>\n",
       "    <tr>\n",
       "      <th>4</th>\n",
       "      <td>54c1e3b9184cb5b6</td>\n",
       "      <td>abatement</td>\n",
       "      <td>forest region</td>\n",
       "      <td>A47</td>\n",
       "      <td>0.00</td>\n",
       "    </tr>\n",
       "    <tr>\n",
       "      <th>...</th>\n",
       "      <td>...</td>\n",
       "      <td>...</td>\n",
       "      <td>...</td>\n",
       "      <td>...</td>\n",
       "      <td>...</td>\n",
       "    </tr>\n",
       "    <tr>\n",
       "      <th>36468</th>\n",
       "      <td>8e1386cbefd7f245</td>\n",
       "      <td>wood article</td>\n",
       "      <td>wooden article</td>\n",
       "      <td>B44</td>\n",
       "      <td>1.00</td>\n",
       "    </tr>\n",
       "    <tr>\n",
       "      <th>36469</th>\n",
       "      <td>42d9e032d1cd3242</td>\n",
       "      <td>wood article</td>\n",
       "      <td>wooden box</td>\n",
       "      <td>B44</td>\n",
       "      <td>0.50</td>\n",
       "    </tr>\n",
       "    <tr>\n",
       "      <th>36470</th>\n",
       "      <td>208654ccb9e14fa3</td>\n",
       "      <td>wood article</td>\n",
       "      <td>wooden handle</td>\n",
       "      <td>B44</td>\n",
       "      <td>0.50</td>\n",
       "    </tr>\n",
       "    <tr>\n",
       "      <th>36471</th>\n",
       "      <td>756ec035e694722b</td>\n",
       "      <td>wood article</td>\n",
       "      <td>wooden material</td>\n",
       "      <td>B44</td>\n",
       "      <td>0.75</td>\n",
       "    </tr>\n",
       "    <tr>\n",
       "      <th>36472</th>\n",
       "      <td>8d135da0b55b8c88</td>\n",
       "      <td>wood article</td>\n",
       "      <td>wooden substrate</td>\n",
       "      <td>B44</td>\n",
       "      <td>0.50</td>\n",
       "    </tr>\n",
       "  </tbody>\n",
       "</table>\n",
       "<p>36473 rows × 5 columns</p>\n",
       "</div>"
      ],
      "text/plain": [
       "                     id        anchor                  target context  score\n",
       "0      37d61fd2272659b1     abatement  abatement of pollution     A47   0.50\n",
       "1      7b9652b17b68b7a4     abatement          act of abating     A47   0.75\n",
       "2      36d72442aefd8232     abatement         active catalyst     A47   0.25\n",
       "3      5296b0c19e1ce60e     abatement     eliminating process     A47   0.50\n",
       "4      54c1e3b9184cb5b6     abatement           forest region     A47   0.00\n",
       "...                 ...           ...                     ...     ...    ...\n",
       "36468  8e1386cbefd7f245  wood article          wooden article     B44   1.00\n",
       "36469  42d9e032d1cd3242  wood article              wooden box     B44   0.50\n",
       "36470  208654ccb9e14fa3  wood article           wooden handle     B44   0.50\n",
       "36471  756ec035e694722b  wood article         wooden material     B44   0.75\n",
       "36472  8d135da0b55b8c88  wood article        wooden substrate     B44   0.50\n",
       "\n",
       "[36473 rows x 5 columns]"
      ]
     },
     "execution_count": 2,
     "metadata": {},
     "output_type": "execute_result"
    }
   ],
   "source": [
    "gezi.init_flags()\n",
    "df = pd.read_csv(f'{FLAGS.root}/train.csv')\n",
    "df"
   ]
  },
  {
   "cell_type": "code",
   "execution_count": 3,
   "metadata": {},
   "outputs": [
    {
     "data": {
      "text/plain": [
       "{'id': array(['00068e3dfd5515df', '000c8495ef1763e1', '0019b063a0fe1dc8', ...,\n",
       "        'ffb6e883de7d9d67', 'fff0b4d9fca7fae3', 'fff8d1ccce8e20ec'],\n",
       "       dtype='<U16'),\n",
       " 'label': array([0.25, 0.  , 0.  , ..., 0.5 , 0.25, 0.  ]),\n",
       " 'anchor': array(['conductor particles', 'page file', 'predetermined acceleration',\n",
       "        ..., 'water propulsion device',\n",
       "        'high gradient magnetic separators', 'perform working operations'],\n",
       "       dtype='<U38'),\n",
       " 'target': array(['resin cores', 'hidden camera', 'predetermined policy', ...,\n",
       "        'propulsion unit', 'magnetic equipment',\n",
       "        'psychology of working framework'], dtype='<U98'),\n",
       " 'text': array(['conductor particles[SEP]resin cores[SEP]PERFORMING OPERATIONS; TRANSPORTING. PHYSICAL OR CHEMICAL PROCESSES OR APPARATUS IN GENERAL[SEP]metal; conducting particles; gold tooth; transparent spheres particles; ballpen ink; sources; exchange membranes; electro conductive powders; source membranes; conductor fine particles; source electrodes; conductor; gold particles; metal cores; electric current; particles; copper particles; charged particle; talcum powder; conductive material; material particles; metal ornament; paper printing; conductor particle; fine particles; guides; conductors; conductive particle; transparent particles; gold ornament; metal particles; electro conductive particles; insulator granules; conductor material particles; conductive particles; spheres particles; spheres; exchange electrodes; transparent spheres; conductor powder',\n",
       "        'page file[SEP]hidden camera[SEP]PHYSICS. EDUCATION; CRYPTOGRAPHY; DISPLAY; ADVERTISING; SEALS[SEP]hidden system file; cache file; page description file; hard disk; sds page; file itr; document; page; paging memory; file converter; page break; main memory storage; data; data capture machine; memory; cache; additional address space; main dram; ram memory; fast space; main memory cache; page element; disk break; fast disk; system engineer; graphic cache; page memory; front file system; slow memory; paging file; page id; directory; fast memory; page monitoring',\n",
       "        'predetermined acceleration[SEP]predetermined policy[SEP]PERFORMING OPERATIONS; TRANSPORTING. HOISTING; LIFTING; HAULING[SEP]prearranged acceleration; limit; threshold; alternating accelerations; alternating acceleration; acceleration; speed; acceleration to acceleration; rapid acceleration; predetermined; acceleration system; predetermined deceleration; fixed acceleration; predetermined body weight; acceleration sensor; software acceleration program; undercarriage; sheave carrier; predetermined acceleration; respect to acceleration; given speed; predetermined speed; spooling device for drum cables; respect acceleration; acceleration accelerations; graphics acceleration; predetermined cost; predetermined rotational; displacement; predetermined threshold acceleration; predetermined first acceleration; preset acceleration; threshold speed; predetermined rotational speed; predetermined blood pressure; rapid accelerations; counterweight safety; accelerations; predetermined velocity',\n",
       "        ...,\n",
       "        'water propulsion device[SEP]propulsion unit[SEP]PERFORMING OPERATIONS; TRANSPORTING. SHIPS OR OTHER WATERBORNE VESSELS; RELATED EQUIPMENT[SEP]water jet propulsion unit; water propulsion; drive transmission; propeller propulsion wheels; propeller propulsion propeller; front transmission; duct lip; propulsion propeller; underwater propulsion device; rear wheel transmission; propulsion in maglev train; vehicle fuel tank position; fluid propulsion device; front wheel transmission; water rich fruits; charging device; magnus propeller; propulsion apparatus; water jet propulsion apparatus; propulsion wheel; water propulsion system; water propulsion device; life jacket; hybrid air cushion ground effect vehicle; propeller propulsion; front wheel unit; drive propeller; propulsion device; water jet propulsion system; drive wheel; inboard motor type; drive system; water jet propulsion; water jet propulsion device; water rich vegetables; water geyser; jet propulsion device; propulsion; propulsion system; eye water drop; marine propulsion device',\n",
       "        'high gradient magnetic separators[SEP]magnetic equipment[SEP]CHEMISTRY; METALLURGY. TREATMENT OF WATER, WASTE WATER, SEWAGE, OR SLUDGE[SEP]paramagnetic materials; hydrodynamic porous device; hgms; gradient magnetic separators; separator manufacturer; pressure vessel; color gradients; field gradient enhanced centrifugation; magnetic moment; membranes; separation by magnetic effect; separate magnetic materials; microporous polyolefin; electric field; high gradient magnetic extractor; clarifiers for separation; conveyor drum; photoelectric device; magnetic separator; ferritic material',\n",
       "        'perform working operations[SEP]psychology of working framework[SEP]PERFORMING OPERATIONS; TRANSPORTING. MACHINE TOOLS; METAL-WORKING NOT OTHERWISE PROVIDED FOR[SEP]working operations; stop working operations; implement work task; working principle; laser operation; terminate operations; job handling; implement working operations; performing cutting operation; perform working; perform metal working operations; clamping steel holder; working theory; perform working operation; perform cyclic operations; metal working operations; performing work operations; perform working action; perform operations; perform binary addition; execute working operation; operations research; perform working stroke; milling operation'],\n",
       "       dtype='<U2404'),\n",
       " 'context': array(['B01', 'G09', 'B66', ..., 'B63', 'C02', 'B23'], dtype='<U3'),\n",
       " 'fold': array([0, 0, 0, ..., 4, 4, 4]),\n",
       " 'pred': array([0.25278273, 0.02399713, 0.01598141, ..., 0.48638793, 0.3869513 ,\n",
       "        0.03204729])}"
      ]
     },
     "execution_count": 3,
     "metadata": {},
     "output_type": "execute_result"
    }
   ],
   "source": [
    "FOLDS = 5\n",
    "xs = []\n",
    "ensemblers = [gezi.Ensembler(need_sort=True, includes=['pred']) for _ in range(FOLDS)]\n",
    "for model in mns:\n",
    "  for fold in range(FOLDS):\n",
    "    root = f'../working/offline/10/{fold}/{model}'\n",
    "    x = gezi.load(f'{root}/valid.pkl')\n",
    "    x['fold'] = np.asarray([fold] * len(x['id']))\n",
    "    x['pred'] = normalize(x['pred'])\n",
    "    # xs.append(x)\n",
    "    ensemblers[fold].add(x, get_weight(model))\n",
    "xs = [ensembler.finalize() for ensembler in ensemblers]\n",
    "for x in xs:\n",
    "  x['pred'] = normalize(x['pred'])\n",
    "x = gezi.merge_array_dicts(xs)\n",
    "x"
   ]
  },
  {
   "cell_type": "code",
   "execution_count": 4,
   "metadata": {},
   "outputs": [],
   "source": [
    "oof = pd.DataFrame(x)"
   ]
  },
  {
   "cell_type": "code",
   "execution_count": 5,
   "metadata": {},
   "outputs": [
    {
     "data": {
      "text/plain": [
       "0.8682403177522899"
      ]
     },
     "execution_count": 5,
     "metadata": {},
     "output_type": "execute_result"
    }
   ],
   "source": [
    "calc_metric(oof.label, oof.pred)"
   ]
  },
  {
   "cell_type": "code",
   "execution_count": null,
   "metadata": {},
   "outputs": [],
   "source": []
  }
 ],
 "metadata": {
  "interpreter": {
   "hash": "1925003cfa3979ae366740114cfe890bf8d7ad5b88e4afe0ec571fe261ed45e3"
  },
  "kernelspec": {
   "display_name": "Python 3.7.9",
   "language": "python",
   "name": "python3"
  },
  "language_info": {
   "codemirror_mode": {
    "name": "ipython",
    "version": 3
   },
   "file_extension": ".py",
   "mimetype": "text/x-python",
   "name": "python",
   "nbconvert_exporter": "python",
   "pygments_lexer": "ipython3",
   "version": "3.7.9"
  },
  "orig_nbformat": 4
 },
 "nbformat": 4,
 "nbformat_minor": 2
}
