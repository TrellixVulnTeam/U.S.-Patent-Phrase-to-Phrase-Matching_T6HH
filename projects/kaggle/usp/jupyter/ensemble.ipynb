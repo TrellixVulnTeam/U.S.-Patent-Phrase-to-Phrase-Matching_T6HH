{
 "cells": [
  {
   "cell_type": "code",
   "execution_count": 2,
   "metadata": {},
   "outputs": [],
   "source": [
    "from gezi.common import *\n",
    "sys.path.append('..')\n",
    "from src.eval import *\n",
    "from src.postprocess import *\n",
    "gezi.init_flags()"
   ]
  },
  {
   "cell_type": "markdown",
   "metadata": {},
   "source": [
    "测试全量单模"
   ]
  },
  {
   "cell_type": "code",
   "execution_count": 3,
   "metadata": {},
   "outputs": [],
   "source": [
    "v = 9\n",
    "model = 'deberta-v3-large.flag-best.fold_seed2-2048'\n",
    "model_dir = f'../working/online/{v}/0/{model}'\n",
    "x1 = gezi.load(f'{model_dir}/valid.pkl')\n",
    "x1['pred'] = normalize(x1['pred'])\n",
    "x1['pred'] = normalize(x1['pred'])"
   ]
  },
  {
   "cell_type": "code",
   "execution_count": 4,
   "metadata": {},
   "outputs": [
    {
     "data": {
      "text/plain": [
       "0.8583056342328432"
      ]
     },
     "execution_count": 4,
     "metadata": {},
     "output_type": "execute_result"
    }
   ],
   "source": [
    "calc_metric(x1['label'], x1['pred'])"
   ]
  },
  {
   "cell_type": "code",
   "execution_count": 5,
   "metadata": {},
   "outputs": [
    {
     "data": {
      "text/plain": [
       "0.8583056342328432"
      ]
     },
     "execution_count": 5,
     "metadata": {},
     "output_type": "execute_result"
    }
   ],
   "source": [
    "calc_metric(x1['label'], normalize(x1['pred']))"
   ]
  },
  {
   "cell_type": "code",
   "execution_count": 6,
   "metadata": {},
   "outputs": [],
   "source": [
    "model = 'patent.fold_seed2-2048'\n",
    "model_dir = f'../working/online/{v}/0/{model}'\n",
    "x2 = gezi.load(f'{model_dir}/valid.pkl')\n",
    "x2['pred'] = normalize(x2['pred'])\n",
    "x2['pred'] = normalize(x2['pred'])"
   ]
  },
  {
   "cell_type": "code",
   "execution_count": 7,
   "metadata": {},
   "outputs": [
    {
     "data": {
      "text/plain": [
       "0.836557597616569"
      ]
     },
     "execution_count": 7,
     "metadata": {},
     "output_type": "execute_result"
    }
   ],
   "source": [
    "calc_metric(x2['label'], x2['pred'])"
   ]
  },
  {
   "cell_type": "code",
   "execution_count": 8,
   "metadata": {},
   "outputs": [
    {
     "data": {
      "text/plain": [
       "0.836557597616569"
      ]
     },
     "execution_count": 8,
     "metadata": {},
     "output_type": "execute_result"
    }
   ],
   "source": [
    "calc_metric(x2['label'], normalize(x2['pred']))"
   ]
  },
  {
   "cell_type": "code",
   "execution_count": 9,
   "metadata": {},
   "outputs": [
    {
     "data": {
      "text/plain": [
       "0.8591488380659558"
      ]
     },
     "execution_count": 9,
     "metadata": {},
     "output_type": "execute_result"
    }
   ],
   "source": [
    "ensembler = gezi.Ensembler(includes=['pred'])\n",
    "ensembler.add(x1.copy())\n",
    "ensembler.add(x2.copy())\n",
    "x = ensembler.finalize()\n",
    "calc_metric(x['label'], x['pred'])"
   ]
  },
  {
   "cell_type": "code",
   "execution_count": 10,
   "metadata": {},
   "outputs": [
    {
     "data": {
      "text/plain": [
       "0.8591488380659555"
      ]
     },
     "execution_count": 10,
     "metadata": {},
     "output_type": "execute_result"
    }
   ],
   "source": [
    "ensembler = gezi.Ensembler(includes=['pred'])\n",
    "ensembler.add(x1.copy())\n",
    "ensembler.add(x2.copy())\n",
    "x = ensembler.finalize()\n",
    "calc_metric(x['label'], normalize(x['pred']))"
   ]
  },
  {
   "cell_type": "code",
   "execution_count": 11,
   "metadata": {},
   "outputs": [
    {
     "data": {
      "text/plain": [
       "0.8601033298448474"
      ]
     },
     "execution_count": 11,
     "metadata": {},
     "output_type": "execute_result"
    }
   ],
   "source": [
    "v = 9\n",
    "model = 'deberta-v3-large.flag-best.fold_seed2-2048'\n",
    "ensembler = gezi.Ensembler(includes=['pred'])\n",
    "for i in range(5):\n",
    "  model_dir = f'../working/offline/{v}/{i}/{model}'\n",
    "  x = gezi.load(f'{model_dir}/valid.pkl')\n",
    "  x['pred'] = normalize(x['pred'])  \n",
    "  ensembler.add(x)\n",
    "x = ensembler.finalize()\n",
    "calc_metric(x['label'], normalize(x['pred']))"
   ]
  },
  {
   "cell_type": "code",
   "execution_count": 12,
   "metadata": {},
   "outputs": [
    {
     "data": {
      "text/plain": [
       "0.8705118866415673"
      ]
     },
     "execution_count": 12,
     "metadata": {},
     "output_type": "execute_result"
    }
   ],
   "source": [
    "v = 9\n",
    "model = 'deberta-v3-large.flag-best.valid_fold_idx-0.fold_seed2-2048'\n",
    "ensembler = gezi.Ensembler(includes=['pred'])\n",
    "for i in range(5):\n",
    "  model_dir = f'../working/offline/{v}/{i}/{model}'\n",
    "  x = gezi.load(f'{model_dir}/valid.pkl')\n",
    "  x['pred'] = normalize(x['pred'])  \n",
    "  ensembler.add(x)\n",
    "x = ensembler.finalize()\n",
    "calc_metric(x['label'], normalize(x['pred']))"
   ]
  },
  {
   "cell_type": "code",
   "execution_count": 13,
   "metadata": {},
   "outputs": [
    {
     "data": {
      "text/plain": [
       "0.8605213170579481"
      ]
     },
     "execution_count": 13,
     "metadata": {},
     "output_type": "execute_result"
    }
   ],
   "source": [
    "v = 9\n",
    "\n",
    "ensembler = gezi.Ensembler(includes=['pred'])\n",
    "model = 'deberta-v3-large.flag-best.fold_seed2-2048'\n",
    "model_dir = f'../working/online/{v}/0/{model}'\n",
    "x = gezi.load(f'{model_dir}/valid.pkl')\n",
    "x['pred'] = normalize(x['pred'])  \n",
    "ensembler.add(x)\n",
    "model = 'deberta-v3-large.flag-best.fold_seed2-2049'\n",
    "model_dir = f'../working/online/{v}/0/{model}'\n",
    "x = gezi.load(f'{model_dir}/valid.pkl')\n",
    "x['pred'] = normalize(x['pred'])  \n",
    "ensembler.add(x)\n",
    "model = 'deberta-v3-large.flag-best.fold_seed2-2050'\n",
    "model_dir = f'../working/online/{v}/0/{model}'\n",
    "x = gezi.load(f'{model_dir}/valid.pkl')\n",
    "x['pred'] = normalize(x['pred'])  \n",
    "ensembler.add(x)\n",
    "model = 'deberta-v3-large.flag-best.fold_seed2-2051'\n",
    "model_dir = f'../working/online/{v}/0/{model}'\n",
    "x = gezi.load(f'{model_dir}/valid.pkl')\n",
    "x['pred'] = normalize(x['pred'])  \n",
    "ensembler.add(x)\n",
    "model = 'deberta-v3-large.flag-best.fold_seed2-2052'\n",
    "model_dir = f'../working/online/{v}/0/{model}'\n",
    "x = gezi.load(f'{model_dir}/valid.pkl')\n",
    "x['pred'] = normalize(x['pred'])  \n",
    "ensembler.add(x)\n",
    "x = ensembler.finalize()\n",
    "calc_metric(x['label'], normalize(x['pred']))"
   ]
  },
  {
   "cell_type": "code",
   "execution_count": 14,
   "metadata": {},
   "outputs": [
    {
     "data": {
      "text/plain": [
       "0.8609653863948856"
      ]
     },
     "execution_count": 14,
     "metadata": {},
     "output_type": "execute_result"
    }
   ],
   "source": [
    "v = 9\n",
    "model = 'deberta-v3-large.flag-best.fold_seed2-2048'\n",
    "ensembler = gezi.Ensembler(includes=['pred'])\n",
    "for i in range(5):\n",
    "  model_dir = f'../working/offline/{v}/{i}/{model}'\n",
    "  x = gezi.load(f'{model_dir}/valid.pkl')\n",
    "  x['pred'] = normalize(x['pred'])  \n",
    "  ensembler.add(x.copy())\n",
    "model_dir = f'../working/online/{v}/0/{model}'\n",
    "x = gezi.load(f'{model_dir}/valid.pkl')\n",
    "x['pred'] = normalize(x['pred'])  \n",
    "ensembler.add(x.copy(), 3)\n",
    "x = ensembler.finalize()\n",
    "calc_metric(x['label'], normalize(x['pred']))"
   ]
  },
  {
   "cell_type": "code",
   "execution_count": 15,
   "metadata": {},
   "outputs": [
    {
     "data": {
      "text/plain": [
       "0.8712940079383661"
      ]
     },
     "execution_count": 15,
     "metadata": {},
     "output_type": "execute_result"
    }
   ],
   "source": [
    "v = 9\n",
    "model = 'deberta-v3-large.flag-best.valid_fold_idx-0.fold_seed2-2048'\n",
    "ensembler = gezi.Ensembler(includes=['pred'])\n",
    "for i in range(5):\n",
    "  model_dir = f'../working/offline/{v}/{i}/{model}'\n",
    "  x = gezi.load(f'{model_dir}/valid.pkl')\n",
    "  x['pred'] = normalize(x['pred'])  \n",
    "  ensembler.add(x.copy())\n",
    "model_dir = f'../working/online/{v}/0/{model}'\n",
    "x = gezi.load(f'{model_dir}/valid.pkl')\n",
    "x['pred'] = normalize(x['pred'])  \n",
    "ensembler.add(x.copy(), 3)\n",
    "x = ensembler.finalize()\n",
    "calc_metric(x['label'], normalize(x['pred']))"
   ]
  },
  {
   "cell_type": "code",
   "execution_count": 16,
   "metadata": {},
   "outputs": [
    {
     "data": {
      "text/plain": [
       "0.8608795457206765"
      ]
     },
     "execution_count": 16,
     "metadata": {},
     "output_type": "execute_result"
    }
   ],
   "source": [
    "v = 9\n",
    "model = 'deberta-v3-large.flag-best.shuffle_targets.fold_seed2-2048'\n",
    "ensembler = gezi.Ensembler(includes=['pred'])\n",
    "for i in range(5):\n",
    "  model_dir = f'../working/offline/{v}/{i}/{model}'\n",
    "  x = gezi.load(f'{model_dir}/valid.pkl')\n",
    "  x['pred'] = normalize(x['pred'])  \n",
    "  ensembler.add(x.copy())\n",
    "model_dir = f'../working/online/{v}/0/{model}'\n",
    "x = gezi.load(f'{model_dir}/valid.pkl')\n",
    "x['pred'] = normalize(x['pred'])  \n",
    "ensembler.add(x.copy(), 3)\n",
    "x = ensembler.finalize()\n",
    "calc_metric(x['label'], normalize(x['pred']))"
   ]
  },
  {
   "cell_type": "code",
   "execution_count": 17,
   "metadata": {},
   "outputs": [
    {
     "data": {
      "text/plain": [
       "0.858284253847431"
      ]
     },
     "execution_count": 17,
     "metadata": {},
     "output_type": "execute_result"
    }
   ],
   "source": [
    "v = 9\n",
    "model = 'deberta-v3-large.flag-best.shuffle_targets.dynamic_aug_seed.fold_seed2-2048'\n",
    "ensembler = gezi.Ensembler(includes=['pred'])\n",
    "for i in range(5):\n",
    "  model_dir = f'../working/offline/{v}/{i}/{model}'\n",
    "  x = gezi.load(f'{model_dir}/valid.pkl')\n",
    "  x['pred'] = normalize(x['pred'])  \n",
    "  ensembler.add(x.copy())\n",
    "model_dir = f'../working/online/{v}/0/{model}'\n",
    "x = gezi.load(f'{model_dir}/valid.pkl')\n",
    "x['pred'] = normalize(x['pred'])  \n",
    "ensembler.add(x.copy(), 1)\n",
    "x = ensembler.finalize()\n",
    "calc_metric(x['label'], normalize(x['pred']))"
   ]
  },
  {
   "cell_type": "code",
   "execution_count": 18,
   "metadata": {},
   "outputs": [
    {
     "data": {
      "text/plain": [
       "0.871729170947096"
      ]
     },
     "execution_count": 18,
     "metadata": {},
     "output_type": "execute_result"
    }
   ],
   "source": [
    "v = 9\n",
    "model = 'deberta-v3-large.flag-best.shuffle_targets.valid_fold_idx-0.fold_seed2-2048'\n",
    "ensembler = gezi.Ensembler(includes=['pred'])\n",
    "for i in range(5):\n",
    "  model_dir = f'../working/offline/{v}/{i}/{model}'\n",
    "  x = gezi.load(f'{model_dir}/valid.pkl')\n",
    "  x['pred'] = normalize(x['pred'])  \n",
    "  ensembler.add(x.copy())\n",
    "model_dir = f'../working/online/{v}/0/{model}'\n",
    "x = gezi.load(f'{model_dir}/valid.pkl')\n",
    "x['pred'] = normalize(x['pred'])  \n",
    "ensembler.add(x.copy(), 3)\n",
    "x = ensembler.finalize()\n",
    "calc_metric(x['label'], normalize(x['pred']))"
   ]
  },
  {
   "cell_type": "code",
   "execution_count": 19,
   "metadata": {},
   "outputs": [
    {
     "data": {
      "text/plain": [
       "0.8609653863948856"
      ]
     },
     "execution_count": 19,
     "metadata": {},
     "output_type": "execute_result"
    }
   ],
   "source": [
    "v = 9\n",
    "model = 'deberta-v3-large.flag-best.fold_seed2-2048'\n",
    "ensembler = gezi.Ensembler(includes=['pred'])\n",
    "for i in range(5):\n",
    "  model_dir = f'../working/offline/{v}/{i}/{model}'\n",
    "  x = gezi.load(f'{model_dir}/valid.pkl')\n",
    "  x['pred'] = normalize(x['pred'])  \n",
    "  ensembler.add(x.copy())\n",
    "model_dir = f'../working/online/{v}/0/{model}'\n",
    "x = gezi.load(f'{model_dir}/valid.pkl')\n",
    "x['pred'] = normalize(x['pred'])  \n",
    "ensembler.add(x.copy(), 3)\n",
    "x = ensembler.finalize()\n",
    "calc_metric(x['label'], normalize(x['pred']))"
   ]
  },
  {
   "cell_type": "code",
   "execution_count": 20,
   "metadata": {},
   "outputs": [
    {
     "data": {
      "text/plain": [
       "0.8609215979021788"
      ]
     },
     "execution_count": 20,
     "metadata": {},
     "output_type": "execute_result"
    }
   ],
   "source": [
    "v = 9\n",
    "model = 'deberta-v3-large.flag-best.shuffle_targets.fold_seed2-2048'\n",
    "ensembler = gezi.Ensembler(includes=['pred'])\n",
    "for i in range(5):\n",
    "  model_dir = f'../working/offline/{v}/{i}/{model}'\n",
    "  x = gezi.load(f'{model_dir}/valid.pkl')\n",
    "  x['pred'] = normalize(x['pred'])  \n",
    "  ensembler.add(x.copy())\n",
    "model_dir = f'../working/online/{v}/0/{model}'\n",
    "x = gezi.load(f'{model_dir}/valid.pkl')\n",
    "x['pred'] = normalize(x['pred'])  \n",
    "ensembler.add(x.copy(), 2)\n",
    "x = ensembler.finalize()\n",
    "calc_metric(x['label'], normalize(x['pred']))"
   ]
  },
  {
   "cell_type": "code",
   "execution_count": 21,
   "metadata": {},
   "outputs": [
    {
     "data": {
      "text/plain": [
       "0.871729170947096"
      ]
     },
     "execution_count": 21,
     "metadata": {},
     "output_type": "execute_result"
    }
   ],
   "source": [
    "v = 9\n",
    "model = 'deberta-v3-large.flag-best.shuffle_targets.valid_fold_idx-0.fold_seed2-2048'\n",
    "ensembler = gezi.Ensembler(includes=['pred'])\n",
    "for i in range(5):\n",
    "  model_dir = f'../working/offline/{v}/{i}/{model}'\n",
    "  x = gezi.load(f'{model_dir}/valid.pkl')\n",
    "  x['pred'] = normalize(x['pred'])  \n",
    "  ensembler.add(x.copy())\n",
    "model_dir = f'../working/online/{v}/0/{model}'\n",
    "x = gezi.load(f'{model_dir}/valid.pkl')\n",
    "x['pred'] = normalize(x['pred'])  \n",
    "ensembler.add(x.copy(), 3)\n",
    "x = ensembler.finalize()\n",
    "calc_metric(x['label'], normalize(x['pred']))"
   ]
  },
  {
   "cell_type": "code",
   "execution_count": 22,
   "metadata": {},
   "outputs": [
    {
     "data": {
      "text/plain": [
       "0.8592379126833536"
      ]
     },
     "execution_count": 22,
     "metadata": {},
     "output_type": "execute_result"
    }
   ],
   "source": [
    "v = 9\n",
    "model = 'deberta-v3-large.flag-best.shuffle_targets.dynamic_aug_seed.fold_seed2-2048'\n",
    "ensembler = gezi.Ensembler(includes=['pred'])\n",
    "for i in range(5):\n",
    "  model_dir = f'../working/offline/{v}/{i}/{model}'\n",
    "  x = gezi.load(f'{model_dir}/valid.pkl')\n",
    "  x['pred'] = normalize(x['pred'])  \n",
    "  ensembler.add(x.copy())\n",
    "model_dir = f'../working/online/{v}/0/{model}'\n",
    "x = gezi.load(f'{model_dir}/valid.pkl')\n",
    "x['pred'] = normalize(x['pred'])  \n",
    "ensembler.add(x.copy(), 3)\n",
    "x = ensembler.finalize()\n",
    "calc_metric(x['label'], normalize(x['pred']))"
   ]
  },
  {
   "cell_type": "code",
   "execution_count": 23,
   "metadata": {},
   "outputs": [
    {
     "data": {
      "text/plain": [
       "0.8712940079383661"
      ]
     },
     "execution_count": 23,
     "metadata": {},
     "output_type": "execute_result"
    }
   ],
   "source": [
    "v = 9\n",
    "model = 'deberta-v3-large.flag-best.valid_fold_idx-0.fold_seed2-2048'\n",
    "ensembler = gezi.Ensembler(includes=['pred'])\n",
    "for i in range(5):\n",
    "  model_dir = f'../working/offline/{v}/{i}/{model}'\n",
    "  x = gezi.load(f'{model_dir}/valid.pkl')\n",
    "  x['pred'] = normalize(x['pred'])  \n",
    "  ensembler.add(x.copy())\n",
    "model_dir = f'../working/online/{v}/0/{model}'\n",
    "x = gezi.load(f'{model_dir}/valid.pkl')\n",
    "x['pred'] = normalize(x['pred'])  \n",
    "ensembler.add(x.copy(), 3)\n",
    "x = ensembler.finalize()\n",
    "calc_metric(x['label'], normalize(x['pred']))"
   ]
  },
  {
   "cell_type": "code",
   "execution_count": 24,
   "metadata": {},
   "outputs": [
    {
     "data": {
      "text/plain": [
       "0.871729170947096"
      ]
     },
     "execution_count": 24,
     "metadata": {},
     "output_type": "execute_result"
    }
   ],
   "source": [
    "v = 9\n",
    "model = 'deberta-v3-large.flag-best.shuffle_targets.valid_fold_idx-0.fold_seed2-2048'\n",
    "ensembler = gezi.Ensembler(includes=['pred'])\n",
    "for i in range(5):\n",
    "  model_dir = f'../working/offline/{v}/{i}/{model}'\n",
    "  x = gezi.load(f'{model_dir}/valid.pkl')\n",
    "  x['pred'] = normalize(x['pred'])  \n",
    "  ensembler.add(x.copy())\n",
    "model_dir = f'../working/online/{v}/0/{model}'\n",
    "x = gezi.load(f'{model_dir}/valid.pkl')\n",
    "x['pred'] = normalize(x['pred'])  \n",
    "ensembler.add(x.copy(), 3)\n",
    "x = ensembler.finalize()\n",
    "calc_metric(x['label'], normalize(x['pred']))"
   ]
  },
  {
   "cell_type": "code",
   "execution_count": 25,
   "metadata": {},
   "outputs": [
    {
     "data": {
      "text/plain": [
       "0.8605429130693713"
      ]
     },
     "execution_count": 25,
     "metadata": {},
     "output_type": "execute_result"
    }
   ],
   "source": [
    "v = 9\n",
    "ensembler = gezi.Ensembler(includes=['pred'])\n",
    "model = 'deberta-v3-large.flag-best.fold_seed2-2048'\n",
    "for i in range(5):\n",
    "  model_dir = f'../working/offline/{v}/{i}/{model}'\n",
    "  x = gezi.load(f'{model_dir}/valid.pkl')\n",
    "  x['pred'] = normalize(x['pred'])  \n",
    "  ensembler.add(x.copy())\n",
    "model = 'deberta-v3-large.flag-best.fold_seed2-2049'\n",
    "for i in range(3):\n",
    "  model_dir = f'../working/offline/{v}/{i}/{model}'\n",
    "  x = gezi.load(f'{model_dir}/valid.pkl')\n",
    "  x['pred'] = normalize(x['pred'])  \n",
    "  ensembler.add(x.copy())\n",
    "x = ensembler.finalize()\n",
    "calc_metric(x['label'], normalize(x['pred']))"
   ]
  },
  {
   "cell_type": "code",
   "execution_count": 26,
   "metadata": {},
   "outputs": [
    {
     "data": {
      "text/plain": [
       "0.8631470633370031"
      ]
     },
     "execution_count": 26,
     "metadata": {},
     "output_type": "execute_result"
    }
   ],
   "source": [
    "# online 8596\n",
    "v = 9\n",
    "ensembler = gezi.Ensembler(includes=['pred'])\n",
    "model = 'deberta-v3-large.flag-best.fold_seed2-2048'\n",
    "for i in range(5):\n",
    "  model_dir = f'../working/offline/{v}/{i}/{model}'\n",
    "  x = gezi.load(f'{model_dir}/valid.pkl')\n",
    "  x['pred'] = normalize(x['pred'])  \n",
    "  ensembler.add(x.copy())\n",
    "model_dir = f'../working/online/{v}/0/{model}'\n",
    "x = gezi.load(f'{model_dir}/valid.pkl')\n",
    "x['pred'] = normalize(x['pred'])  \n",
    "ensembler.add(x.copy(), 3)\n",
    "model = 'patent.flag-best.fold_seed2-2048'\n",
    "for i in range(5):\n",
    "  model_dir = f'../working/offline/{v}/{i}/{model}'\n",
    "  x = gezi.load(f'{model_dir}/valid.pkl')\n",
    "  x['pred'] = normalize(x['pred'])  \n",
    "  ensembler.add(x.copy(), 0.3)\n",
    "model_dir = f'../working/online/{v}/0/{model}'\n",
    "x = gezi.load(f'{model_dir}/valid.pkl')\n",
    "x['pred'] = normalize(x['pred'])  \n",
    "ensembler.add(x.copy(), 1.2)\n",
    "x = ensembler.finalize()\n",
    "x['pred'] = normalize(x['pred'])\n",
    "calc_metric(x['label'], x['pred'])"
   ]
  },
  {
   "cell_type": "code",
   "execution_count": 27,
   "metadata": {},
   "outputs": [
    {
     "data": {
      "text/plain": [
       "0.8621839742600511"
      ]
     },
     "execution_count": 27,
     "metadata": {},
     "output_type": "execute_result"
    }
   ],
   "source": [
    "v = 9\n",
    "ensembler = gezi.Ensembler(includes=['pred'])\n",
    "model = 'deberta-v3-large.flag-best.fold_seed2-2048'\n",
    "for i in range(5):\n",
    "  model_dir = f'../working/offline/{v}/{i}/{model}'\n",
    "  x = gezi.load(f'{model_dir}/valid.pkl')\n",
    "  x['pred'] = normalize(x['pred'])  \n",
    "  ensembler.add(x.copy())\n",
    "model = 'patent.flag-best.fold_seed2-2048'\n",
    "for i in range(5):\n",
    "  model_dir = f'../working/offline/{v}/{i}/{model}'\n",
    "  x = gezi.load(f'{model_dir}/valid.pkl')\n",
    "  x['pred'] = normalize(x['pred'])  \n",
    "  ensembler.add(x.copy(), 0.3)\n",
    "x = ensembler.finalize()\n",
    "x['pred'] = normalize(x['pred'])\n",
    "calc_metric(x['label'], x['pred'])"
   ]
  },
  {
   "cell_type": "code",
   "execution_count": 28,
   "metadata": {},
   "outputs": [
    {
     "data": {
      "text/plain": [
       "0.8611859114904186"
      ]
     },
     "execution_count": 28,
     "metadata": {},
     "output_type": "execute_result"
    }
   ],
   "source": [
    "v = 9\n",
    "ensembler = gezi.Ensembler(need_sort=True, includes=['pred'])\n",
    "model = 'deberta-v3-large.flag-best.fold_seed2-2048'\n",
    "for i in range(5):\n",
    "  model_dir = f'../working/offline/{v}/{i}/{model}'\n",
    "  x = gezi.load(f'{model_dir}/valid.pkl')\n",
    "  x['pred'] = normalize(x['pred'])  \n",
    "  ensembler.add(x.copy())\n",
    "model = 'deberta-v3-large.flag-best.method-soft_binary.fold_seed2-2048'\n",
    "method = FLAGS.method\n",
    "FLAGS.method = 'soft_binary'\n",
    "for i in range(5):\n",
    "  model_dir = f'../working/offline/{v}/{i}/{model}'\n",
    "  x = gezi.load(f'{model_dir}/valid.pkl')\n",
    "  x['pred'] = to_pred(x['pred'])  \n",
    "  x['pred'] = normalize(x['pred'])  \n",
    "  ensembler.add(x.copy(), 0.7)\n",
    "FLAGS.method = method\n",
    "x = ensembler.finalize()\n",
    "x['pred'] = normalize(x['pred'])\n",
    "calc_metric(x['label'], x['pred'])"
   ]
  },
  {
   "cell_type": "code",
   "execution_count": 29,
   "metadata": {},
   "outputs": [
    {
     "data": {
      "text/plain": [
       "0.8733533180712518"
      ]
     },
     "execution_count": 29,
     "metadata": {},
     "output_type": "execute_result"
    }
   ],
   "source": [
    "v = 9\n",
    "ensembler = gezi.Ensembler(includes=['pred'])\n",
    "model = 'deberta-v3-large.flag-best.valid_fold_idx-0.fold_seed2-2048'\n",
    "for i in range(5):\n",
    "  model_dir = f'../working/offline/{v}/{i}/{model}'\n",
    "  x = gezi.load(f'{model_dir}/valid.pkl')\n",
    "  x['pred'] = normalize(x['pred'])  \n",
    "  ensembler.add(x.copy())\n",
    "model = 'patent.flag-best.valid_fold_idx-0.fold_seed2-2048'\n",
    "for i in range(5):\n",
    "  model_dir = f'../working/offline/{v}/{i}/{model}'\n",
    "  x = gezi.load(f'{model_dir}/valid.pkl')\n",
    "  x['pred'] = normalize(x['pred'])  \n",
    "  ensembler.add(x.copy(), 0.3)\n",
    "x = ensembler.finalize()\n",
    "x['pred'] = normalize(x['pred'])\n",
    "calc_metric(x['label'], x['pred'])"
   ]
  },
  {
   "cell_type": "code",
   "execution_count": 30,
   "metadata": {},
   "outputs": [
    {
     "data": {
      "text/plain": [
       "0.8653438544750879"
      ]
     },
     "execution_count": 30,
     "metadata": {},
     "output_type": "execute_result"
    }
   ],
   "source": [
    "v = 9\n",
    "ensembler = gezi.Ensembler(includes=['pred'])\n",
    "model = 'deberta-v3-large.flag-best.valid_fold_idx-0.fold_seed2-2048'\n",
    "for i in range(1):\n",
    "  model_dir = f'../working/offline/{v}/{i}/{model}'\n",
    "  x = gezi.load(f'{model_dir}/valid.pkl')\n",
    "  x['pred'] = normalize(x['pred'])  \n",
    "  ensembler.add(x.copy())\n",
    "x = ensembler.finalize()\n",
    "x['pred'] = normalize(x['pred'])\n",
    "calc_metric(x['label'], x['pred'])"
   ]
  },
  {
   "cell_type": "code",
   "execution_count": 31,
   "metadata": {},
   "outputs": [
    {
     "data": {
      "text/plain": [
       "0.8733533180712518"
      ]
     },
     "execution_count": 31,
     "metadata": {},
     "output_type": "execute_result"
    }
   ],
   "source": [
    "v = 9\n",
    "ensembler = gezi.Ensembler(includes=['pred'])\n",
    "model = 'deberta-v3-large.flag-best.valid_fold_idx-0.fold_seed2-2048'\n",
    "for i in range(5):\n",
    "  model_dir = f'../working/offline/{v}/{i}/{model}'\n",
    "  x = gezi.load(f'{model_dir}/valid.pkl')\n",
    "  x['pred'] = normalize(x['pred'])  \n",
    "  ensembler.add(x.copy())\n",
    "model = 'patent.flag-best.valid_fold_idx-0.fold_seed2-2048'\n",
    "for i in range(5):\n",
    "  model_dir = f'../working/offline/{v}/{i}/{model}'\n",
    "  x = gezi.load(f'{model_dir}/valid.pkl')\n",
    "  x['pred'] = normalize(x['pred'])  \n",
    "  ensembler.add(x.copy(), 0.3)\n",
    "x = ensembler.finalize()\n",
    "x['pred'] = normalize(x['pred'])\n",
    "calc_metric(x['label'], x['pred'])"
   ]
  },
  {
   "cell_type": "code",
   "execution_count": 32,
   "metadata": {},
   "outputs": [
    {
     "data": {
      "text/plain": [
       "0.8621839742600511"
      ]
     },
     "execution_count": 32,
     "metadata": {},
     "output_type": "execute_result"
    }
   ],
   "source": [
    "v = 9\n",
    "ensembler = gezi.Ensembler(includes=['pred'])\n",
    "model = 'deberta-v3-large.flag-best.fold_seed2-2048'\n",
    "for i in range(5):\n",
    "  model_dir = f'../working/offline/{v}/{i}/{model}'\n",
    "  x = gezi.load(f'{model_dir}/valid.pkl')\n",
    "  x['pred'] = normalize(x['pred'])  \n",
    "  ensembler.add(x.copy())\n",
    "model = 'patent.flag-best.fold_seed2-2048'\n",
    "for i in range(5):\n",
    "  model_dir = f'../working/offline/{v}/{i}/{model}'\n",
    "  x = gezi.load(f'{model_dir}/valid.pkl')\n",
    "  x['pred'] = normalize(x['pred'])  \n",
    "  ensembler.add(x.copy(), 0.3)\n",
    "x = ensembler.finalize()\n",
    "x['pred'] = normalize(x['pred'])\n",
    "calc_metric(x['label'], x['pred'])"
   ]
  },
  {
   "cell_type": "code",
   "execution_count": 33,
   "metadata": {},
   "outputs": [
    {
     "data": {
      "text/plain": [
       "0.8739779377809996"
      ]
     },
     "execution_count": 33,
     "metadata": {},
     "output_type": "execute_result"
    }
   ],
   "source": [
    "# online 8596\n",
    "v = 9\n",
    "ensembler = gezi.Ensembler(includes=['pred'])\n",
    "model = 'deberta-v3-large.flag-best.valid_fold_idx-0.fold_seed2-2048'\n",
    "for i in range(5):\n",
    "  model_dir = f'../working/offline/{v}/{i}/{model}'\n",
    "  x = gezi.load(f'{model_dir}/valid.pkl')\n",
    "  x['pred'] = normalize(x['pred'])  \n",
    "  ensembler.add(x.copy())\n",
    "model_dir = f'../working/online/{v}/0/{model}'\n",
    "x = gezi.load(f'{model_dir}/valid.pkl')\n",
    "x['pred'] = normalize(x['pred'])  \n",
    "ensembler.add(x.copy(), 3)\n",
    "model = 'patent.flag-best.valid_fold_idx-0.fold_seed2-2048'\n",
    "for i in range(5):\n",
    "  model_dir = f'../working/offline/{v}/{i}/{model}'\n",
    "  x = gezi.load(f'{model_dir}/valid.pkl')\n",
    "  x['pred'] = normalize(x['pred'])  \n",
    "  ensembler.add(x.copy(), 0.3)\n",
    "model_dir = f'../working/online/{v}/0/{model}'\n",
    "x = gezi.load(f'{model_dir}/valid.pkl')\n",
    "x['pred'] = normalize(x['pred'])  \n",
    "ensembler.add(x.copy(), 1.2)\n",
    "x = ensembler.finalize()\n",
    "x['pred'] = normalize(x['pred'])\n",
    "calc_metric(x['label'], x['pred'])"
   ]
  },
  {
   "cell_type": "code",
   "execution_count": 34,
   "metadata": {},
   "outputs": [
    {
     "data": {
      "text/plain": [
       "0.8631470633370031"
      ]
     },
     "execution_count": 34,
     "metadata": {},
     "output_type": "execute_result"
    }
   ],
   "source": [
    "v = 9\n",
    "ensembler = gezi.Ensembler(includes=['pred'])\n",
    "model = 'deberta-v3-large.flag-best.fold_seed2-2048'\n",
    "for i in range(5):\n",
    "  model_dir = f'../working/offline/{v}/{i}/{model}'\n",
    "  x = gezi.load(f'{model_dir}/valid.pkl')\n",
    "  x['pred'] = normalize(x['pred'])  \n",
    "  ensembler.add(x.copy())\n",
    "model_dir = f'../working/online/{v}/0/{model}'\n",
    "x = gezi.load(f'{model_dir}/valid.pkl')\n",
    "x['pred'] = normalize(x['pred'])  \n",
    "ensembler.add(x.copy(), 3)\n",
    "model = 'patent.flag-best.fold_seed2-2048'\n",
    "for i in range(5):\n",
    "  model_dir = f'../working/offline/{v}/{i}/{model}'\n",
    "  x = gezi.load(f'{model_dir}/valid.pkl')\n",
    "  x['pred'] = normalize(x['pred'])  \n",
    "  ensembler.add(x.copy(), 0.3)\n",
    "model_dir = f'../working/online/{v}/0/{model}'\n",
    "x = gezi.load(f'{model_dir}/valid.pkl')\n",
    "x['pred'] = normalize(x['pred'])  \n",
    "ensembler.add(x.copy(), 1.2)\n",
    "x = ensembler.finalize()\n",
    "x['pred'] = normalize(x['pred'])\n",
    "calc_metric(x['label'], x['pred'])"
   ]
  },
  {
   "cell_type": "code",
   "execution_count": 35,
   "metadata": {},
   "outputs": [
    {
     "data": {
      "text/plain": [
       "0.8630791747232509"
      ]
     },
     "execution_count": 35,
     "metadata": {},
     "output_type": "execute_result"
    }
   ],
   "source": [
    "v = 9\n",
    "ensembler = gezi.Ensembler(includes=['pred'])\n",
    "model = 'deberta-v3-large.flag-best.shuffle_targets.fold_seed2-2048'\n",
    "for i in range(5):\n",
    "  model_dir = f'../working/offline/{v}/{i}/{model}'\n",
    "  x = gezi.load(f'{model_dir}/valid.pkl')\n",
    "  x['pred'] = normalize(x['pred'])  \n",
    "  ensembler.add(x.copy())\n",
    "model_dir = f'../working/online/{v}/0/{model}'\n",
    "x = gezi.load(f'{model_dir}/valid.pkl')\n",
    "x['pred'] = normalize(x['pred'])  \n",
    "ensembler.add(x.copy(), 3)\n",
    "model = 'patent.flag-best.shuffle_targets.fold_seed2-2048'\n",
    "for i in range(5):\n",
    "  model_dir = f'../working/offline/{v}/{i}/{model}'\n",
    "  x = gezi.load(f'{model_dir}/valid.pkl')\n",
    "  x['pred'] = normalize(x['pred'])  \n",
    "  ensembler.add(x.copy(), 0.3)\n",
    "model_dir = f'../working/online/{v}/0/{model}'\n",
    "x = gezi.load(f'{model_dir}/valid.pkl')\n",
    "x['pred'] = normalize(x['pred'])  \n",
    "ensembler.add(x.copy(), 1.2)\n",
    "x = ensembler.finalize()\n",
    "x['pred'] = normalize(x['pred'])\n",
    "calc_metric(x['label'], x['pred'])"
   ]
  },
  {
   "cell_type": "code",
   "execution_count": 36,
   "metadata": {},
   "outputs": [
    {
     "data": {
      "text/plain": [
       "0.8740959480868127"
      ]
     },
     "execution_count": 36,
     "metadata": {},
     "output_type": "execute_result"
    }
   ],
   "source": [
    "v = 9\n",
    "ensembler = gezi.Ensembler(includes=['pred'])\n",
    "model = 'deberta-v3-large.flag-best.shuffle_targets.valid_fold_idx-0.fold_seed2-2048'\n",
    "for i in range(5):\n",
    "  model_dir = f'../working/offline/{v}/{i}/{model}'\n",
    "  x = gezi.load(f'{model_dir}/valid.pkl')\n",
    "  x['pred'] = normalize(x['pred'])  \n",
    "  ensembler.add(x.copy())\n",
    "model_dir = f'../working/online/{v}/0/{model}'\n",
    "x = gezi.load(f'{model_dir}/valid.pkl')\n",
    "x['pred'] = normalize(x['pred'])  \n",
    "ensembler.add(x.copy(), 3)\n",
    "model = 'patent.flag-best.shuffle_targets.valid_fold_idx-0.fold_seed2-2048'\n",
    "for i in range(5):\n",
    "  model_dir = f'../working/offline/{v}/{i}/{model}'\n",
    "  x = gezi.load(f'{model_dir}/valid.pkl')\n",
    "  x['pred'] = normalize(x['pred'])  \n",
    "  ensembler.add(x.copy(), 0.3)\n",
    "model_dir = f'../working/online/{v}/0/{model}'\n",
    "x = gezi.load(f'{model_dir}/valid.pkl')\n",
    "x['pred'] = normalize(x['pred'])  \n",
    "ensembler.add(x.copy(), 1.2)\n",
    "x = ensembler.finalize()\n",
    "x['pred'] = normalize(x['pred'])\n",
    "calc_metric(x['label'], x['pred'])"
   ]
  },
  {
   "cell_type": "code",
   "execution_count": 37,
   "metadata": {},
   "outputs": [
    {
     "data": {
      "text/plain": [
       "0.8739464124842834"
      ]
     },
     "execution_count": 37,
     "metadata": {},
     "output_type": "execute_result"
    }
   ],
   "source": [
    "v = 9\n",
    "ensembler = gezi.Ensembler(includes=['pred'])\n",
    "model = 'deberta-v3-large.flag-best.valid_fold_idx-0.fold_seed2-2048'\n",
    "for i in range(5):\n",
    "  model_dir = f'../working/offline/{v}/{i}/{model}'\n",
    "  x = gezi.load(f'{model_dir}/valid.pkl')\n",
    "  x['pred'] = normalize(x['pred'])  \n",
    "  ensembler.add(x.copy(), 1)\n",
    "model_dir = f'../working/online/{v}/0/{model}'\n",
    "x = gezi.load(f'{model_dir}/valid.pkl')\n",
    "x['pred'] = normalize(x['pred'])  \n",
    "ensembler.add(x.copy(), 3)\n",
    "model = 'patent.flag-best.valid_fold_idx-0.fold_seed2-2048'\n",
    "for i in range(5):\n",
    "  model_dir = f'../working/offline/{v}/{i}/{model}'\n",
    "  x = gezi.load(f'{model_dir}/valid.pkl')\n",
    "  x['pred'] = normalize(x['pred'])  \n",
    "  ensembler.add(x.copy(), 0.3)\n",
    "model_dir = f'../working/online/{v}/0/{model}'\n",
    "x = gezi.load(f'{model_dir}/valid.pkl')\n",
    "x['pred'] = normalize(x['pred'])  \n",
    "ensembler.add(x.copy(), 1.2)\n",
    "model = 'deberta-v3-large.flag-best.lower.valid_fold_idx-0.fold_seed2-2048'\n",
    "for i in range(5):\n",
    "  model_dir = f'../working/offline/{v}/{i}/{model}'\n",
    "  x = gezi.load(f'{model_dir}/valid.pkl')\n",
    "  x['pred'] = to_pred(x['pred'])  \n",
    "  x['pred'] = normalize(x['pred'])  \n",
    "  ensembler.add(x.copy(), 0.3)\n",
    "model_dir = f'../working/online/{v}/0/{model}'\n",
    "x = gezi.load(f'{model_dir}/valid.pkl')\n",
    "x['pred'] = normalize(x['pred'])  \n",
    "ensembler.add(x.copy(), 0.6)\n",
    "x = ensembler.finalize()\n",
    "x['pred'] = normalize(x['pred'])\n",
    "calc_metric(x['label'], x['pred'])"
   ]
  },
  {
   "cell_type": "code",
   "execution_count": 38,
   "metadata": {},
   "outputs": [
    {
     "data": {
      "text/plain": [
       "0.874744434850715"
      ]
     },
     "execution_count": 38,
     "metadata": {},
     "output_type": "execute_result"
    }
   ],
   "source": [
    "v = 9\n",
    "ensembler = gezi.Ensembler(includes=['pred'])\n",
    "model = 'deberta-v3-large.flag-best.valid_fold_idx-0.fold_seed2-2048'\n",
    "for i in range(5):\n",
    "  model_dir = f'../working/offline/{v}/{i}/{model}'\n",
    "  x = gezi.load(f'{model_dir}/valid.pkl')\n",
    "  x['pred'] = normalize(x['pred'])  \n",
    "  ensembler.add(x.copy(), 1)\n",
    "model_dir = f'../working/online/{v}/0/{model}'\n",
    "x = gezi.load(f'{model_dir}/valid.pkl')\n",
    "x['pred'] = normalize(x['pred'])  \n",
    "ensembler.add(x.copy(), 3)\n",
    "model = 'patent.flag-best.valid_fold_idx-0.fold_seed2-2048'\n",
    "for i in range(5):\n",
    "  model_dir = f'../working/offline/{v}/{i}/{model}'\n",
    "  x = gezi.load(f'{model_dir}/valid.pkl')\n",
    "  x['pred'] = normalize(x['pred'])  \n",
    "  ensembler.add(x.copy(), 0.3)\n",
    "model_dir = f'../working/online/{v}/0/{model}'\n",
    "x = gezi.load(f'{model_dir}/valid.pkl')\n",
    "x['pred'] = normalize(x['pred'])  \n",
    "ensembler.add(x.copy(), 1.2)\n",
    "model = 'simcse-patent.flag-best.valid_fold_idx-0.fold_seed2-2048'\n",
    "for i in range(5):\n",
    "  model_dir = f'../working/offline/{v}/{i}/{model}'\n",
    "  x = gezi.load(f'{model_dir}/valid.pkl')\n",
    "  x['pred'] = to_pred(x['pred'])  \n",
    "  x['pred'] = normalize(x['pred'])  \n",
    "  ensembler.add(x.copy(), 0.2)\n",
    "model_dir = f'../working/online/{v}/0/{model}'\n",
    "x = gezi.load(f'{model_dir}/valid.pkl')\n",
    "x['pred'] = normalize(x['pred'])  \n",
    "ensembler.add(x.copy(), 0.8)\n",
    "x = ensembler.finalize()\n",
    "x['pred'] = normalize(x['pred'])\n",
    "calc_metric(x['label'], x['pred'])"
   ]
  },
  {
   "cell_type": "code",
   "execution_count": 112,
   "metadata": {},
   "outputs": [
    {
     "data": {
      "text/plain": [
       "0.8749982424060184"
      ]
     },
     "execution_count": 112,
     "metadata": {},
     "output_type": "execute_result"
    }
   ],
   "source": [
    "v = 9\n",
    "ensembler = gezi.Ensembler(includes=['pred'])\n",
    "model = 'deberta-v3-large.flag-best.shuffle_targets.valid_fold_idx-0.fold_seed2-2048'\n",
    "for i in range(5):\n",
    "  model_dir = f'../working/offline/{v}/{i}/{model}'\n",
    "  x = gezi.load(f'{model_dir}/valid.pkl')\n",
    "  x['pred'] = normalize(x['pred'])  \n",
    "  ensembler.add(x.copy(), 1)\n",
    "model_dir = f'../working/online/{v}/0/{model}'\n",
    "x = gezi.load(f'{model_dir}/valid.pkl')\n",
    "x['pred'] = normalize(x['pred'])  \n",
    "ensembler.add(x.copy(), 3)\n",
    "model = 'deberta-v3-large.flag-best.shuffle_targets.pooling-cls.valid_fold_idx-0.fold_seed2-2048'\n",
    "for i in range(5):\n",
    "  model_dir = f'../working/offline/{v}/{i}/{model}'\n",
    "  x = gezi.load(f'{model_dir}/valid.pkl')\n",
    "  x['pred'] = normalize(x['pred'])  \n",
    "  ensembler.add(x.copy(), 0.2)\n",
    "model_dir = f'../working/online/{v}/0/{model}'\n",
    "x = gezi.load(f'{model_dir}/valid.pkl')\n",
    "x['pred'] = normalize(x['pred'])  \n",
    "ensembler.add(x.copy(), 0.8)\n",
    "model = 'patent.flag-best.shuffle_targets.valid_fold_idx-0.fold_seed2-2048'\n",
    "for i in range(5):\n",
    "  model_dir = f'../working/offline/{v}/{i}/{model}'\n",
    "  x = gezi.load(f'{model_dir}/valid.pkl')\n",
    "  x['pred'] = normalize(x['pred'])  \n",
    "  ensembler.add(x.copy(), 0.3)\n",
    "model_dir = f'../working/online/{v}/0/{model}'\n",
    "x = gezi.load(f'{model_dir}/valid.pkl')\n",
    "x['pred'] = normalize(x['pred'])  \n",
    "ensembler.add(x.copy(), 1.2)\n",
    "model = 'simcse-patent.flag-best.shuffle_targets.valid_fold_idx-0.fold_seed2-2048'\n",
    "for i in range(5):\n",
    "  model_dir = f'../working/offline/{v}/{i}/{model}'\n",
    "  x = gezi.load(f'{model_dir}/valid.pkl')\n",
    "  x['pred'] = to_pred(x['pred'])  \n",
    "  x['pred'] = normalize(x['pred'])  \n",
    "  ensembler.add(x.copy(), 0.2)\n",
    "model_dir = f'../working/online/{v}/0/{model}'\n",
    "x = gezi.load(f'{model_dir}/valid.pkl')\n",
    "x['pred'] = normalize(x['pred'])  \n",
    "ensembler.add(x.copy(), 0.8)\n",
    "x = ensembler.finalize()\n",
    "x['pred'] = normalize(x['pred'])\n",
    "calc_metric(x['label'], x['pred'])"
   ]
  },
  {
   "cell_type": "code",
   "execution_count": null,
   "metadata": {},
   "outputs": [
    {
     "data": {
      "text/plain": [
       "0.8634685891752112"
      ]
     },
     "execution_count": 160,
     "metadata": {},
     "output_type": "execute_result"
    }
   ],
   "source": [
    "v = 9\n",
    "ensembler = gezi.Ensembler(includes=['pred'])\n",
    "model = 'deberta-v3-large.flag-best.fold_seed2-2048'\n",
    "for i in range(5):\n",
    "  model_dir = f'../working/offline/{v}/{i}/{model}'\n",
    "  x = gezi.load(f'{model_dir}/valid.pkl')\n",
    "  x['pred'] = normalize(x['pred'])  \n",
    "  ensembler.add(x.copy(), 0.7)\n",
    "model_dir = f'../working/online/{v}/0/{model}'\n",
    "x = gezi.load(f'{model_dir}/valid.pkl')\n",
    "x['pred'] = normalize(x['pred'])  \n",
    "ensembler.add(x.copy(), 2)\n",
    "model = 'patent.flag-best.fold_seed2-2048'\n",
    "for i in range(5):\n",
    "  model_dir = f'../working/offline/{v}/{i}/{model}'\n",
    "  x = gezi.load(f'{model_dir}/valid.pkl')\n",
    "  x['pred'] = normalize(x['pred'])  \n",
    "  ensembler.add(x.copy(), 0.3)\n",
    "model_dir = f'../working/online/{v}/0/{model}'\n",
    "x = gezi.load(f'{model_dir}/valid.pkl')\n",
    "x['pred'] = normalize(x['pred'])  \n",
    "ensembler.add(x.copy(), 1.2)\n",
    "model = 'deberta-v3-large.flag-best.lower.fold_seed2-2048'\n",
    "for i in range(5):\n",
    "  model_dir = f'../working/offline/{v}/{i}/{model}'\n",
    "  x = gezi.load(f'{model_dir}/valid.pkl')\n",
    "  x['pred'] = to_pred(x['pred'])  \n",
    "  x['pred'] = normalize(x['pred'])  \n",
    "  ensembler.add(x.copy(), 0.3)\n",
    "model_dir = f'../working/online/{v}/0/{model}'\n",
    "x = gezi.load(f'{model_dir}/valid.pkl')\n",
    "x['pred'] = normalize(x['pred'])  \n",
    "ensembler.add(x.copy(), 0.6)\n",
    "x = ensembler.finalize()\n",
    "x['pred'] = normalize(x['pred'])\n",
    "calc_metric(x['label'], x['pred'])"
   ]
  },
  {
   "cell_type": "code",
   "execution_count": 113,
   "metadata": {},
   "outputs": [
    {
     "data": {
      "text/plain": [
       "0.863931943008978"
      ]
     },
     "execution_count": 113,
     "metadata": {},
     "output_type": "execute_result"
    }
   ],
   "source": [
    "v = 9\n",
    "ensembler = gezi.Ensembler(includes=['pred'])\n",
    "model = 'deberta-v3-large.flag-best.fold_seed2-2048'\n",
    "for i in range(5):\n",
    "  model_dir = f'../working/offline/{v}/{i}/{model}'\n",
    "  x = gezi.load(f'{model_dir}/valid.pkl')\n",
    "  x['pred'] = normalize(x['pred'])  \n",
    "  ensembler.add(x.copy(), 1)\n",
    "model_dir = f'../working/online/{v}/0/{model}'\n",
    "x = gezi.load(f'{model_dir}/valid.pkl')\n",
    "x['pred'] = normalize(x['pred'])  \n",
    "ensembler.add(x.copy(), 3)\n",
    "model = 'deberta-v3-large.flag-best.shuffle_targets.pooling-cls.fold_seed2-2048'\n",
    "for i in range(5):\n",
    "  model_dir = f'../working/offline/{v}/{i}/{model}'\n",
    "  x = gezi.load(f'{model_dir}/valid.pkl')\n",
    "  x['pred'] = normalize(x['pred'])  \n",
    "  ensembler.add(x.copy(), 0.2)\n",
    "model_dir = f'../working/online/{v}/0/{model}'\n",
    "x = gezi.load(f'{model_dir}/valid.pkl')\n",
    "x['pred'] = normalize(x['pred'])  \n",
    "ensembler.add(x.copy(), 0.8)\n",
    "model = 'patent.flag-best.fold_seed2-2048'\n",
    "for i in range(5):\n",
    "  model_dir = f'../working/offline/{v}/{i}/{model}'\n",
    "  x = gezi.load(f'{model_dir}/valid.pkl')\n",
    "  x['pred'] = normalize(x['pred'])  \n",
    "  ensembler.add(x.copy(), 0.3)\n",
    "model_dir = f'../working/online/{v}/0/{model}'\n",
    "x = gezi.load(f'{model_dir}/valid.pkl')\n",
    "x['pred'] = normalize(x['pred'])  \n",
    "ensembler.add(x.copy(), 1.2)\n",
    "model = 'simcse-patent.flag-best.fold_seed2-2048'\n",
    "for i in range(5):\n",
    "  model_dir = f'../working/offline/{v}/{i}/{model}'\n",
    "  x = gezi.load(f'{model_dir}/valid.pkl')\n",
    "  x['pred'] = to_pred(x['pred'])  \n",
    "  x['pred'] = normalize(x['pred'])  \n",
    "  ensembler.add(x.copy(), 0.2)\n",
    "model_dir = f'../working/online/{v}/0/{model}'\n",
    "x = gezi.load(f'{model_dir}/valid.pkl')\n",
    "x['pred'] = normalize(x['pred'])  \n",
    "ensembler.add(x.copy(), 0.8)\n",
    "x = ensembler.finalize()\n",
    "x['pred'] = normalize(x['pred'])\n",
    "calc_metric(x['label'], x['pred'])"
   ]
  },
  {
   "cell_type": "code",
   "execution_count": null,
   "metadata": {},
   "outputs": [
    {
     "data": {
      "text/plain": [
       "0.8636408742344451"
      ]
     },
     "execution_count": 184,
     "metadata": {},
     "output_type": "execute_result"
    }
   ],
   "source": [
    "v = 9\n",
    "ensembler = gezi.Ensembler(includes=['pred'])\n",
    "model = 'deberta-v3-large.flag-best.shuffle_targets.fold_seed2-2048'\n",
    "for i in range(5):\n",
    "  model_dir = f'../working/offline/{v}/{i}/{model}'\n",
    "  x = gezi.load(f'{model_dir}/valid.pkl')\n",
    "  x['pred'] = normalize(x['pred'])  \n",
    "  ensembler.add(x.copy(), 1)\n",
    "model_dir = f'../working/online/{v}/0/{model}'\n",
    "x = gezi.load(f'{model_dir}/valid.pkl')\n",
    "x['pred'] = normalize(x['pred'])  \n",
    "ensembler.add(x.copy(), 3)\n",
    "model = 'patent.flag-best.shuffle_targets.fold_seed2-2048'\n",
    "for i in range(5):\n",
    "  model_dir = f'../working/offline/{v}/{i}/{model}'\n",
    "  x = gezi.load(f'{model_dir}/valid.pkl')\n",
    "  x['pred'] = normalize(x['pred'])  \n",
    "  ensembler.add(x.copy(), 0.3)\n",
    "model_dir = f'../working/online/{v}/0/{model}'\n",
    "x = gezi.load(f'{model_dir}/valid.pkl')\n",
    "x['pred'] = normalize(x['pred'])  \n",
    "ensembler.add(x.copy(), 1.2)\n",
    "model = 'simcse-patent.flag-best.shuffle_targets.fold_seed2-2048'\n",
    "for i in range(5):\n",
    "  model_dir = f'../working/offline/{v}/{i}/{model}'\n",
    "  x = gezi.load(f'{model_dir}/valid.pkl')\n",
    "  x['pred'] = to_pred(x['pred'])  \n",
    "  x['pred'] = normalize(x['pred'])  \n",
    "  ensembler.add(x.copy(), 0.2)\n",
    "model_dir = f'../working/online/{v}/0/{model}'\n",
    "x = gezi.load(f'{model_dir}/valid.pkl')\n",
    "x['pred'] = normalize(x['pred'])  \n",
    "ensembler.add(x.copy(), 0.8)\n",
    "x = ensembler.finalize()\n",
    "x['pred'] = normalize(x['pred'])\n",
    "calc_metric(x['label'], x['pred'])"
   ]
  },
  {
   "cell_type": "code",
   "execution_count": null,
   "metadata": {},
   "outputs": [
    {
     "name": "stderr",
     "output_type": "stream",
     "text": [
      "[06/07/22 05:24:13] 400104998.py:20 in <module>\n",
      "                    w: 0.0\n",
      "                    calc_metric(x['label'], x['pred']): 0.8601033298448474\n",
      "[06/07/22 05:24:13] 400104998.py:20 in <module>\n",
      "                    w: 0.1\n",
      "                    calc_metric(x['label'], x['pred']): 0.8614167810169455\n",
      "[06/07/22 05:24:14] 400104998.py:20 in <module>\n",
      "                    w: 0.2\n",
      "                    calc_metric(x['label'], x['pred']): 0.8620247292066644\n",
      "[06/07/22 05:24:14] 400104998.py:20 in <module>\n",
      "                    w: 0.30000000000000004\n",
      "                    calc_metric(x['label'], x['pred']): 0.8621839742600511\n",
      "[06/07/22 05:24:15] 400104998.py:20 in <module>\n",
      "                    w: 0.4\n",
      "                    calc_metric(x['label'], x['pred']): 0.8620562612835995\n",
      "[06/07/22 05:24:15] 400104998.py:20 in <module>\n",
      "                    w: 0.5\n",
      "                    calc_metric(x['label'], x['pred']): 0.8617455654950387\n",
      "[06/07/22 05:24:16] 400104998.py:20 in <module>\n",
      "                    w: 0.6000000000000001\n",
      "                    calc_metric(x['label'], x['pred']): 0.8613198543744041\n",
      "[06/07/22 05:24:16] 400104998.py:20 in <module>\n",
      "                    w: 0.7000000000000001\n",
      "                    calc_metric(x['label'], x['pred']): 0.860824147069001\n",
      "[06/07/22 05:24:17] 400104998.py:20 in <module>\n",
      "                    w: 0.8\n",
      "                    calc_metric(x['label'], x['pred']): 0.8602885502677523\n",
      "[06/07/22 05:24:17] 400104998.py:20 in <module>\n",
      "                    w: 0.9\n",
      "                    calc_metric(x['label'], x['pred']): 0.8597333155256885\n"
     ]
    }
   ],
   "source": [
    "v = 9\n",
    "for j in range(10):\n",
    "  w = (1 / 10) * j\n",
    "  ensembler = gezi.Ensembler(includes=['pred'])\n",
    "  model = 'deberta-v3-large.flag-best.fold_seed2-2048'\n",
    "  for i in range(5):\n",
    "    model_dir = f'../working/offline/{v}/{i}/{model}'\n",
    "    x = gezi.load(f'{model_dir}/valid.pkl')\n",
    "    x['pred'] = normalize(x['pred'])  \n",
    "    ensembler.add(x)\n",
    "\n",
    "  model = 'patent.flag-best.fold_seed2-2048'\n",
    "  for i in range(5):\n",
    "    model_dir = f'../working/offline/{v}/{i}/{model}'\n",
    "    x = gezi.load(f'{model_dir}/valid.pkl')\n",
    "    x['pred'] = normalize(x['pred'])  \n",
    "    ensembler.add(x, w)\n",
    "  x = ensembler.finalize()\n",
    "  x['pred'] = normalize(x['pred'])\n",
    "  ic(w, calc_metric(x['label'], x['pred']))"
   ]
  },
  {
   "cell_type": "code",
   "execution_count": null,
   "metadata": {},
   "outputs": [
    {
     "name": "stderr",
     "output_type": "stream",
     "text": [
      "[06/07/22 05:18:28] 3678922402.py:20 in <module>\n",
      "                    w: 0.0\n",
      "                    calc_metric(x['label'], x['pred']): 0.8601033298448474\n",
      "[06/07/22 05:18:29] 3678922402.py:20 in <module>\n",
      "                    w: 0.1\n",
      "                    calc_metric(x['label'], x['pred']): 0.8613738539200668\n",
      "[06/07/22 05:18:29] 3678922402.py:20 in <module>\n",
      "                    w: 0.2\n",
      "                    calc_metric(x['label'], x['pred']): 0.8619299195020469\n",
      "[06/07/22 05:18:30] 3678922402.py:20 in <module>\n",
      "                    w: 0.30000000000000004\n",
      "                    calc_metric(x['label'], x['pred']): 0.8620347947000491\n",
      "[06/07/22 05:18:30] 3678922402.py:20 in <module>\n",
      "                    w: 0.4\n",
      "                    calc_metric(x['label'], x['pred']): 0.8618535256692115\n",
      "[06/07/22 05:18:30] 3678922402.py:20 in <module>\n",
      "                    w: 0.5\n",
      "                    calc_metric(x['label'], x['pred']): 0.8614917044730442\n",
      "[06/07/22 05:18:31] 3678922402.py:20 in <module>\n",
      "                    w: 0.6000000000000001\n",
      "                    calc_metric(x['label'], x['pred']): 0.8610180112811028\n",
      "[06/07/22 05:18:31] 3678922402.py:20 in <module>\n",
      "                    w: 0.7000000000000001\n",
      "                    calc_metric(x['label'], x['pred']): 0.8604776928611969\n",
      "[06/07/22 05:18:32] 3678922402.py:20 in <module>\n",
      "                    w: 0.8\n",
      "                    calc_metric(x['label'], x['pred']): 0.8599008273977211\n",
      "[06/07/22 05:18:32] 3678922402.py:20 in <module>\n",
      "                    w: 0.9\n",
      "                    calc_metric(x['label'], x['pred']): 0.8593075082881869\n"
     ]
    }
   ],
   "source": [
    "v = 9\n",
    "for j in range(10):\n",
    "  w = (1 / 10) * j\n",
    "  ensembler = gezi.Ensembler(includes=['pred'])\n",
    "  model = 'deberta-v3-large.flag-best.fold_seed2-2048'\n",
    "  for i in range(5):\n",
    "    model_dir = f'../working/offline/{v}/{i}/{model}'\n",
    "    x = gezi.load(f'{model_dir}/valid.pkl')\n",
    "    x['pred'] = normalize(x['pred'])  \n",
    "    ensembler.add(x)\n",
    "\n",
    "  model = 'patent.flag-best.fold_seed2-2049'\n",
    "  for i in range(5):\n",
    "    model_dir = f'../working/offline/{v}/{i}/{model}'\n",
    "    x = gezi.load(f'{model_dir}/valid.pkl')\n",
    "    x['pred'] = normalize(x['pred'])  \n",
    "    ensembler.add(x, w)\n",
    "  x = ensembler.finalize()\n",
    "  x['pred'] = normalize(x['pred'])\n",
    "  ic(w, calc_metric(x['label'], x['pred']))"
   ]
  },
  {
   "cell_type": "code",
   "execution_count": null,
   "metadata": {},
   "outputs": [],
   "source": []
  }
 ],
 "metadata": {
  "interpreter": {
   "hash": "1925003cfa3979ae366740114cfe890bf8d7ad5b88e4afe0ec571fe261ed45e3"
  },
  "kernelspec": {
   "display_name": "Python 3.7.9",
   "language": "python",
   "name": "python3"
  },
  "language_info": {
   "codemirror_mode": {
    "name": "ipython",
    "version": 3
   },
   "file_extension": ".py",
   "mimetype": "text/x-python",
   "name": "python",
   "nbconvert_exporter": "python",
   "pygments_lexer": "ipython3",
   "version": "3.7.9"
  },
  "orig_nbformat": 4
 },
 "nbformat": 4,
 "nbformat_minor": 2
}
